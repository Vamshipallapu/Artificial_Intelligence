{
  "nbformat": 4,
  "nbformat_minor": 0,
  "metadata": {
    "colab": {
      "provenance": []
    },
    "kernelspec": {
      "name": "python3",
      "display_name": "Python 3"
    },
    "language_info": {
      "name": "python"
    }
  },
  "cells": [
    {
      "cell_type": "markdown",
      "source": [
        "**Marginal Distributions:**"
      ],
      "metadata": {
        "id": "S2RfAqDHUaeR"
      }
    },
    {
      "cell_type": "markdown",
      "source": [
        "Marginal distributions are derived from joint distributions and provide information about the individual behavior of a single random variable, ignoring the other variables in the joint distribution.\n",
        "Mathematical Formulas:\n",
        "\n",
        "Marginal Probability Mass Function (MPMF) for Discrete Random Variables:\n",
        "The marginal probability mass function (MPMF) of a discrete random variable X is obtained by summing the joint probability mass function (JPMF) over all possible values of the other random variable(s).\n",
        "\n",
        "For two discrete random variables X and Y, the MPMF of X is given by:\n",
        "Copy codeP(X = x) = Σ P(X = x, Y = y)\n",
        "         y\n",
        "Where the summation is taken over all possible values of Y.\n",
        "\n",
        "Marginal Probability Density Function (MPDF) for Continuous Random Variables:\n",
        "The marginal probability density function (MPDF) of a continuous random variable X is obtained by integrating the joint probability density function (JPDF) over all possible values of the other random variable(s).\n",
        "\n",
        "For two continuous random variables X and Y, the MPDF of X is given by:\n",
        "Copy codef(x) = ∫ f(x, y) dy\n",
        "        -∞\n",
        "         ∞\n",
        "Where the integration is performed over the entire range of Y.\n",
        "Real-world Example:\n",
        "Let's consider the joint distribution of a person's height (X) and weight (Y). The joint distribution provides information about the relationship between height and weight. However, if we are only interested in analyzing the distribution of heights or weights individually, we can obtain the marginal distributions.\n",
        "To find the marginal distribution of height (X), we would sum or integrate the joint distribution over all possible values of weight (Y). Similarly, to find the marginal distribution of weight (Y), we would sum or integrate the joint distribution over all possible values of height (X).\n",
        "The marginal distributions are useful because they provide insights into the individual behavior of a random variable, without considering the other variables in the joint distribution. For example, we can use the marginal distribution of height to calculate the probability that a person's height falls within a certain range, regardless of their weight.\n",
        "Marginal distributions are widely used in various applications, such as hypothesis testing, parameter estimation, and model selection, where the focus is on analyzing the behavior of individual variables rather than their joint relationships."
      ],
      "metadata": {
        "id": "OIsLSFSlUUkf"
      }
    },
    {
      "cell_type": "code",
      "execution_count": null,
      "metadata": {
        "id": "GFlPfJR6UPCD"
      },
      "outputs": [],
      "source": []
    }
  ]
}