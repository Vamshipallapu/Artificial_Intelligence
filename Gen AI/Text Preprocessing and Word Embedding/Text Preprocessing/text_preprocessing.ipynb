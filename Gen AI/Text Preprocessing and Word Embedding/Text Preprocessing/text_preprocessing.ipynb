{
  "cells": [
    {
      "cell_type": "markdown",
      "source": [
        "In General Pre Processing includes steps like\n",
        "\n",
        "Lowercasing\n",
        "\n",
        "HTML\n",
        "\n",
        "URLS\n",
        "\n",
        "Stopwords\n",
        "\n",
        "Stemming\n",
        "\n",
        "Lemmatization\n",
        "\n",
        "Tokenization\n",
        "\n",
        "Removing Punctuation\n",
        "\n",
        "Removing Whitespace\n",
        "\n",
        "Pos tagging\n",
        "\n",
        "Chunking\n",
        "\n",
        "Conference Resolution\n",
        "\n",
        "Removing Emoji's"
      ],
      "metadata": {
        "id": "0hefF_tGXdU2"
      }
    },
    {
      "cell_type": "code",
      "execution_count": null,
      "metadata": {
        "id": "2b2rmqVxXVFe",
        "outputId": "bdd1297f-4d22-48af-ef90-6c2754838d81"
      },
      "outputs": [
        {
          "name": "stderr",
          "output_type": "stream",
          "text": [
            "/tmp/ipykernel_629/4080736814.py:1: DeprecationWarning: \n",
            "Pyarrow will become a required dependency of pandas in the next major release of pandas (pandas 3.0),\n",
            "(to allow more performant data types, such as the Arrow string type, and better interoperability with other libraries)\n",
            "but was not found to be installed on your system.\n",
            "If this would cause problems for you,\n",
            "please provide us feedback at https://github.com/pandas-dev/pandas/issues/54466\n",
            "        \n",
            "  import pandas as pd\n"
          ]
        }
      ],
      "source": [
        "import pandas as pd"
      ]
    },
    {
      "cell_type": "code",
      "execution_count": null,
      "metadata": {
        "id": "0leookYqXVFg"
      },
      "outputs": [],
      "source": [
        "data=pd.read_csv(\"https://raw.githubusercontent.com/Ankit152/IMDB-sentiment-analysis/master/IMDB-Dataset.csv\")"
      ]
    },
    {
      "cell_type": "code",
      "execution_count": null,
      "metadata": {
        "id": "DjdZJn_FXVFh",
        "outputId": "2fda82f9-b483-43f8-ed12-49241e567f52"
      },
      "outputs": [
        {
          "data": {
            "text/html": [
              "<div>\n",
              "<style scoped>\n",
              "    .dataframe tbody tr th:only-of-type {\n",
              "        vertical-align: middle;\n",
              "    }\n",
              "\n",
              "    .dataframe tbody tr th {\n",
              "        vertical-align: top;\n",
              "    }\n",
              "\n",
              "    .dataframe thead th {\n",
              "        text-align: right;\n",
              "    }\n",
              "</style>\n",
              "<table border=\"1\" class=\"dataframe\">\n",
              "  <thead>\n",
              "    <tr style=\"text-align: right;\">\n",
              "      <th></th>\n",
              "      <th>review</th>\n",
              "      <th>sentiment</th>\n",
              "    </tr>\n",
              "  </thead>\n",
              "  <tbody>\n",
              "    <tr>\n",
              "      <th>0</th>\n",
              "      <td>One of the other reviewers has mentioned that ...</td>\n",
              "      <td>positive</td>\n",
              "    </tr>\n",
              "    <tr>\n",
              "      <th>1</th>\n",
              "      <td>A wonderful little production. &lt;br /&gt;&lt;br /&gt;The...</td>\n",
              "      <td>positive</td>\n",
              "    </tr>\n",
              "    <tr>\n",
              "      <th>2</th>\n",
              "      <td>I thought this was a wonderful way to spend ti...</td>\n",
              "      <td>positive</td>\n",
              "    </tr>\n",
              "    <tr>\n",
              "      <th>3</th>\n",
              "      <td>Basically there's a family where a little boy ...</td>\n",
              "      <td>negative</td>\n",
              "    </tr>\n",
              "    <tr>\n",
              "      <th>4</th>\n",
              "      <td>Petter Mattei's \"Love in the Time of Money\" is...</td>\n",
              "      <td>positive</td>\n",
              "    </tr>\n",
              "  </tbody>\n",
              "</table>\n",
              "</div>"
            ],
            "text/plain": [
              "                                              review sentiment\n",
              "0  One of the other reviewers has mentioned that ...  positive\n",
              "1  A wonderful little production. <br /><br />The...  positive\n",
              "2  I thought this was a wonderful way to spend ti...  positive\n",
              "3  Basically there's a family where a little boy ...  negative\n",
              "4  Petter Mattei's \"Love in the Time of Money\" is...  positive"
            ]
          },
          "execution_count": 4,
          "metadata": {},
          "output_type": "execute_result"
        }
      ],
      "source": [
        "#To check top 5 rows in the data\n",
        "data.head()"
      ]
    },
    {
      "cell_type": "code",
      "execution_count": null,
      "metadata": {
        "id": "qko_ruAgXVFh",
        "outputId": "fb041e9a-e11e-44ff-9a28-ce236dba472d"
      },
      "outputs": [
        {
          "data": {
            "text/html": [
              "<div>\n",
              "<style scoped>\n",
              "    .dataframe tbody tr th:only-of-type {\n",
              "        vertical-align: middle;\n",
              "    }\n",
              "\n",
              "    .dataframe tbody tr th {\n",
              "        vertical-align: top;\n",
              "    }\n",
              "\n",
              "    .dataframe thead th {\n",
              "        text-align: right;\n",
              "    }\n",
              "</style>\n",
              "<table border=\"1\" class=\"dataframe\">\n",
              "  <thead>\n",
              "    <tr style=\"text-align: right;\">\n",
              "      <th></th>\n",
              "      <th>review</th>\n",
              "      <th>sentiment</th>\n",
              "    </tr>\n",
              "  </thead>\n",
              "  <tbody>\n",
              "    <tr>\n",
              "      <th>49995</th>\n",
              "      <td>I thought this movie did a down right good job...</td>\n",
              "      <td>positive</td>\n",
              "    </tr>\n",
              "    <tr>\n",
              "      <th>49996</th>\n",
              "      <td>Bad plot, bad dialogue, bad acting, idiotic di...</td>\n",
              "      <td>negative</td>\n",
              "    </tr>\n",
              "    <tr>\n",
              "      <th>49997</th>\n",
              "      <td>I am a Catholic taught in parochial elementary...</td>\n",
              "      <td>negative</td>\n",
              "    </tr>\n",
              "    <tr>\n",
              "      <th>49998</th>\n",
              "      <td>I'm going to have to disagree with the previou...</td>\n",
              "      <td>negative</td>\n",
              "    </tr>\n",
              "    <tr>\n",
              "      <th>49999</th>\n",
              "      <td>No one expects the Star Trek movies to be high...</td>\n",
              "      <td>negative</td>\n",
              "    </tr>\n",
              "  </tbody>\n",
              "</table>\n",
              "</div>"
            ],
            "text/plain": [
              "                                                  review sentiment\n",
              "49995  I thought this movie did a down right good job...  positive\n",
              "49996  Bad plot, bad dialogue, bad acting, idiotic di...  negative\n",
              "49997  I am a Catholic taught in parochial elementary...  negative\n",
              "49998  I'm going to have to disagree with the previou...  negative\n",
              "49999  No one expects the Star Trek movies to be high...  negative"
            ]
          },
          "execution_count": 5,
          "metadata": {},
          "output_type": "execute_result"
        }
      ],
      "source": [
        "# To check :ast five rows of the Data\n",
        "data.tail()"
      ]
    },
    {
      "cell_type": "code",
      "execution_count": null,
      "metadata": {
        "id": "pfyqSH4RXVFi",
        "outputId": "7d4ebf23-dbb6-4cfe-ffba-5f6404243444"
      },
      "outputs": [
        {
          "data": {
            "text/html": [
              "<div>\n",
              "<style scoped>\n",
              "    .dataframe tbody tr th:only-of-type {\n",
              "        vertical-align: middle;\n",
              "    }\n",
              "\n",
              "    .dataframe tbody tr th {\n",
              "        vertical-align: top;\n",
              "    }\n",
              "\n",
              "    .dataframe thead th {\n",
              "        text-align: right;\n",
              "    }\n",
              "</style>\n",
              "<table border=\"1\" class=\"dataframe\">\n",
              "  <thead>\n",
              "    <tr style=\"text-align: right;\">\n",
              "      <th></th>\n",
              "      <th>review</th>\n",
              "      <th>sentiment</th>\n",
              "    </tr>\n",
              "  </thead>\n",
              "  <tbody>\n",
              "    <tr>\n",
              "      <th>32116</th>\n",
              "      <td>I think this movie had really bad production v...</td>\n",
              "      <td>negative</td>\n",
              "    </tr>\n",
              "    <tr>\n",
              "      <th>36939</th>\n",
              "      <td>A pretty average scifi film. The plot was more...</td>\n",
              "      <td>negative</td>\n",
              "    </tr>\n",
              "    <tr>\n",
              "      <th>16949</th>\n",
              "      <td>I tried to like this movie. I love Kevin Space...</td>\n",
              "      <td>negative</td>\n",
              "    </tr>\n",
              "    <tr>\n",
              "      <th>47515</th>\n",
              "      <td>WARNING: PLOT SPOILER&lt;br /&gt;&lt;br /&gt;The always-ab...</td>\n",
              "      <td>positive</td>\n",
              "    </tr>\n",
              "    <tr>\n",
              "      <th>6932</th>\n",
              "      <td>This version of \"The Lost Horizon\" is actually...</td>\n",
              "      <td>positive</td>\n",
              "    </tr>\n",
              "  </tbody>\n",
              "</table>\n",
              "</div>"
            ],
            "text/plain": [
              "                                                  review sentiment\n",
              "32116  I think this movie had really bad production v...  negative\n",
              "36939  A pretty average scifi film. The plot was more...  negative\n",
              "16949  I tried to like this movie. I love Kevin Space...  negative\n",
              "47515  WARNING: PLOT SPOILER<br /><br />The always-ab...  positive\n",
              "6932   This version of \"The Lost Horizon\" is actually...  positive"
            ]
          },
          "execution_count": 6,
          "metadata": {},
          "output_type": "execute_result"
        }
      ],
      "source": [
        "# To check Random 5 rows from the data\n",
        "data.sample(5)"
      ]
    },
    {
      "cell_type": "code",
      "execution_count": null,
      "metadata": {
        "id": "Z1PeAPNRXVFi",
        "outputId": "9a493a20-9795-4845-9919-0822df08f3b1"
      },
      "outputs": [
        {
          "data": {
            "text/plain": [
              "\"One of the other reviewers has mentioned that after watching just 1 Oz episode you'll be hooked. They are right, as this is exactly what happened with me.<br /><br />The first thing that struck me about Oz was its brutality and unflinching scenes of violence, which set in right from the word GO. Trust me, this is not a show for the faint hearted or timid. This show pulls no punches with regards to drugs, sex or violence. Its is hardcore, in the classic use of the word.<br /><br />It is called OZ as that is the nickname given to the Oswald Maximum Security State Penitentary. It focuses mainly on Emerald City, an experimental section of the prison where all the cells have glass fronts and face inwards, so privacy is not high on the agenda. Em City is home to many..Aryans, Muslims, gangstas, Latinos, Christians, Italians, Irish and more....so scuffles, death stares, dodgy dealings and shady agreements are never far away.<br /><br />I would say the main appeal of the show is due to the fact that it goes where other shows wouldn't dare. Forget pretty pictures painted for mainstream audiences, forget charm, forget romance...OZ doesn't mess around. The first episode I ever saw struck me as so nasty it was surreal, I couldn't say I was ready for it, but as I watched more, I developed a taste for Oz, and got accustomed to the high levels of graphic violence. Not just violence, but injustice (crooked guards who'll be sold out for a nickel, inmates who'll kill on order and get away with it, well mannered, middle class inmates being turned into prison bitches due to their lack of street skills or prison experience) Watching Oz, you may become comfortable with what is uncomfortable viewing....thats if you can get in touch with your darker side.\""
            ]
          },
          "execution_count": 7,
          "metadata": {},
          "output_type": "execute_result"
        }
      ],
      "source": [
        "data[\"review\"][0]"
      ]
    },
    {
      "cell_type": "code",
      "execution_count": null,
      "metadata": {
        "id": "vLW1eE4EXVFj",
        "outputId": "5d916692-890f-49b0-bd21-48c76b12ec80"
      },
      "outputs": [
        {
          "data": {
            "text/plain": [
              "\"Basically there's a family where a little boy (Jake) thinks there's a zombie in his closet & his parents are fighting all the time.<br /><br />This movie is slower than a soap opera... and suddenly, Jake decides to become Rambo and kill the zombie.<br /><br />OK, first of all when you're going to make a film you must Decide if its a thriller or a drama! As a drama the movie is watchable. Parents are divorcing & arguing like in real life. And then we have Jake with his closet which totally ruins all the film! I expected to see a BOOGEYMAN similar movie, and instead i watched a drama with some meaningless thriller spots.<br /><br />3 out of 10 just for the well playing parents & descent dialogs. As for the shots with Jake: just ignore them.\""
            ]
          },
          "execution_count": 8,
          "metadata": {},
          "output_type": "execute_result"
        }
      ],
      "source": [
        "data[\"review\"][3]"
      ]
    },
    {
      "cell_type": "markdown",
      "metadata": {
        "id": "n2zgm0_2XVFj"
      },
      "source": [
        "#lowercasing"
      ]
    },
    {
      "cell_type": "code",
      "execution_count": null,
      "metadata": {
        "id": "b9AbQBjaXVFl",
        "outputId": "4835b485-c8a4-4093-a483-6854f26b3250"
      },
      "outputs": [
        {
          "data": {
            "text/plain": [
              "\"basically there's a family where a little boy (jake) thinks there's a zombie in his closet & his parents are fighting all the time.<br /><br />this movie is slower than a soap opera... and suddenly, jake decides to become rambo and kill the zombie.<br /><br />ok, first of all when you're going to make a film you must decide if its a thriller or a drama! as a drama the movie is watchable. parents are divorcing & arguing like in real life. and then we have jake with his closet which totally ruins all the film! i expected to see a boogeyman similar movie, and instead i watched a drama with some meaningless thriller spots.<br /><br />3 out of 10 just for the well playing parents & descent dialogs. as for the shots with jake: just ignore them.\""
            ]
          },
          "execution_count": 9,
          "metadata": {},
          "output_type": "execute_result"
        }
      ],
      "source": [
        "data[\"review\"][3].lower()"
      ]
    },
    {
      "cell_type": "code",
      "execution_count": null,
      "metadata": {
        "id": "MJkUr8IPXVFm",
        "outputId": "919fa1a7-6bd4-4888-f777-89d813a4265f"
      },
      "outputs": [
        {
          "data": {
            "text/plain": [
              "(50000, 2)"
            ]
          },
          "execution_count": 10,
          "metadata": {},
          "output_type": "execute_result"
        }
      ],
      "source": [
        "data.shape"
      ]
    },
    {
      "cell_type": "code",
      "execution_count": null,
      "metadata": {
        "id": "spDuutoFXVFm"
      },
      "outputs": [],
      "source": [
        "#Applying lower casing on all the reviews or on all the rows.\n",
        "data[\"review\"]=data[\"review\"].str.lower()"
      ]
    },
    {
      "cell_type": "markdown",
      "source": [
        "#Removing HTML Tags"
      ],
      "metadata": {
        "id": "CVzEjLsTX_es"
      }
    },
    {
      "cell_type": "code",
      "execution_count": null,
      "metadata": {
        "id": "qmZGOCsoXVFn"
      },
      "outputs": [],
      "source": [
        "import re"
      ]
    },
    {
      "cell_type": "markdown",
      "metadata": {
        "id": "TAFjWyOmXVFn"
      },
      "source": [
        "Regular expressions contain a series of characters that define a pattern of text to be matched"
      ]
    },
    {
      "cell_type": "code",
      "execution_count": null,
      "metadata": {
        "id": "4hRwtRgjXVFn"
      },
      "outputs": [],
      "source": [
        "import re  # Import the regular expression module\n",
        "def remove_html_tags(text):\n",
        "    pattern = re.compile('<*.?>')  # Compile a regular expression pattern to match HTML tags\n",
        "    return pattern.sub(\"\", text)  # Replace all occurrences of HTML tags with an empty string in the input text"
      ]
    },
    {
      "cell_type": "code",
      "execution_count": null,
      "metadata": {
        "id": "qH6DEBvvXVFn"
      },
      "outputs": [],
      "source": [
        "text=\"\"\"<!DOCTYPE html><html lang=\"en\"><head><meta charset=\"UTF-8\"><meta http-equiv=\"X-UA-Compatible\" content=\"IE=edge\"><meta name=\"viewport\" content=\"width=device-width, initial-scale=1.0\"><title>Welcome to My Website</title><style>body{font-family:'Arial',sans-serif;background-color:#f0f0f0;color:#333;margin:20px}h1{color:#007bff}p{line-height:1.5}</style></head><body><header><h1>Welcome to My Awesome Website!</h1></header><main><p>This is a sample HTML document created for demonstration purposes.</p><p>Feel free to explore and enjoy the content on this website.</p></main><footer><p>&copy; 2024 My Website. All rights reserved.</p></footer></body></html>\"\"\"\n"
      ]
    },
    {
      "cell_type": "code",
      "execution_count": null,
      "metadata": {
        "id": "2tuE8X17XVFo",
        "outputId": "8d76e899-6686-4042-e6fd-3a52fa6c3316"
      },
      "outputs": [
        {
          "data": {
            "text/plain": [
              "'<!DOCTYPE html><html lang=\"en\"><head><meta charset=\"UTF-8\"><meta http-equiv=\"X-UA-Compatible\" content=\"IE=edge\"><meta name=\"viewport\" content=\"width=device-width, initial-scale=1.0\"><title>Welcome to My Website</title><style>body{font-family:\\'Arial\\',sans-serif;background-color:#f0f0f0;color:#333;margin:20px}h1{color:#007bff}p{line-height:1.5}</style></head><body><header><h1>Welcome to My Awesome Website!</h1></header><main><p>This is a sample HTML document created for demonstration purposes.</p><p>Feel free to explore and enjoy the content on this website.</p></main><footer><p>&copy; 2024 My Website. All rights reserved.</p></footer></body></html>'"
            ]
          },
          "execution_count": 15,
          "metadata": {},
          "output_type": "execute_result"
        }
      ],
      "source": [
        "text"
      ]
    },
    {
      "cell_type": "code",
      "execution_count": null,
      "metadata": {
        "id": "F6YxFTYMXVFp",
        "outputId": "b0fd5a8c-159e-4afe-ef0b-2131a09f9934"
      },
      "outputs": [
        {
          "data": {
            "text/plain": [
              "\"Welcome to My Websitebody{font-family:'Arial',sans-serif;background-color:#f0f0f0;color:#333;margin:20px}h1{color:#007bff}p{line-height:1.5}Welcome to My Awesome Website!This is a sample HTML document created for demonstration purposes.Feel free to explore and enjoy the content on this website.&copy; 2024 My Website. All rights reserved.\""
            ]
          },
          "execution_count": 16,
          "metadata": {},
          "output_type": "execute_result"
        }
      ],
      "source": [
        "#Applying the same function on the original data that we want\n",
        "remove_html_tags(text)"
      ]
    },
    {
      "cell_type": "code",
      "execution_count": null,
      "metadata": {
        "id": "RE8LCbR3XVFp"
      },
      "outputs": [],
      "source": [
        "text=data[\"review\"][1]"
      ]
    },
    {
      "cell_type": "code",
      "execution_count": null,
      "metadata": {
        "id": "EHNsye26XVFq",
        "outputId": "b4ec6631-2e24-4dfd-caca-92ea7e6b7f9c"
      },
      "outputs": [
        {
          "data": {
            "text/plain": [
              "'A wonderful little production. <br /><br />The filming technique is very unassuming- very old-time-BBC fashion and gives a comforting, and sometimes discomforting, sense of realism to the entire piece. <br /><br />The actors are extremely well chosen- Michael Sheen not only \"has got all the polari\" but he has all the voices down pat too! You can truly see the seamless editing guided by the references to Williams\\' diary entries, not only is it well worth the watching but it is a terrificly written and performed piece. A masterful production about one of the great master\\'s of comedy and his life. <br /><br />The realism really comes home with the little things: the fantasy of the guard which, rather than use the traditional \\'dream\\' techniques remains solid then disappears. It plays on our knowledge and our senses, particularly with the scenes concerning Orton and Halliwell and the sets (particularly of their flat with Halliwell\\'s murals decorating every surface) are terribly well done.'"
            ]
          },
          "execution_count": 31,
          "metadata": {},
          "output_type": "execute_result"
        }
      ],
      "source": [
        "text"
      ]
    },
    {
      "cell_type": "code",
      "execution_count": null,
      "metadata": {
        "id": "HWFLL6XHXVFq",
        "outputId": "82fa5787-dbcc-4870-eb3f-c32717d0b7e9"
      },
      "outputs": [
        {
          "data": {
            "text/plain": [
              "'A wonderful little production. The filming technique is very unassuming- very old-time-BBC fashion and gives a comforting, and sometimes discomforting, sense of realism to the entire piece. The actors are extremely well chosen- Michael Sheen not only \"has got all the polari\" but he has all the voices down pat too! You can truly see the seamless editing guided by the references to Williams\\' diary entries, not only is it well worth the watching but it is a terrificly written and performed piece. A masterful production about one of the great master\\'s of comedy and his life. The realism really comes home with the little things: the fantasy of the guard which, rather than use the traditional \\'dream\\' techniques remains solid then disappears. It plays on our knowledge and our senses, particularly with the scenes concerning Orton and Halliwell and the sets (particularly of their flat with Halliwell\\'s murals decorating every surface) are terribly well done.'"
            ]
          },
          "execution_count": 30,
          "metadata": {},
          "output_type": "execute_result"
        }
      ],
      "source": [
        "remove_html_tags(text)"
      ]
    },
    {
      "cell_type": "code",
      "execution_count": null,
      "metadata": {
        "id": "O8LWnIOHXVFq"
      },
      "outputs": [],
      "source": [
        "#Using apply method to apply this on the whole coulumn Review\n",
        "data[\"review\"]=data[\"review\"].apply(remove_html_tags)"
      ]
    },
    {
      "cell_type": "code",
      "execution_count": null,
      "metadata": {
        "id": "Jz0r2eEPXVFr",
        "outputId": "34f7a890-72cd-4b35-f5e0-8f1f7bc4e7b8"
      },
      "outputs": [
        {
          "data": {
            "text/plain": [
              "0        One of the other reviewers has mentioned that ...\n",
              "1        A wonderful little production. The filming tec...\n",
              "2        I thought this was a wonderful way to spend ti...\n",
              "3        Basically there's a family where a little boy ...\n",
              "4        Petter Mattei's \"Love in the Time of Money\" is...\n",
              "                               ...                        \n",
              "49995    I thought this movie did a down right good job...\n",
              "49996    Bad plot, bad dialogue, bad acting, idiotic di...\n",
              "49997    I am a Catholic taught in parochial elementary...\n",
              "49998    I'm going to have to disagree with the previou...\n",
              "49999    No one expects the Star Trek movies to be high...\n",
              "Name: review, Length: 50000, dtype: object"
            ]
          },
          "execution_count": 35,
          "metadata": {},
          "output_type": "execute_result"
        }
      ],
      "source": [
        "#Data without any HTML tags at all\n",
        "data[\"review\"]"
      ]
    },
    {
      "cell_type": "code",
      "execution_count": null,
      "metadata": {
        "id": "ltFN4bRXXVFr",
        "outputId": "c499014b-a826-4160-c9fe-4f40b582b7b6"
      },
      "outputs": [
        {
          "data": {
            "text/plain": [
              "0        one of the other reviewers has mentioned that ...\n",
              "1        a wonderful little production. the filming tec...\n",
              "2        i thought this was a wonderful way to spend ti...\n",
              "3        basically there's a family where a little boy ...\n",
              "4        petter mattei's \"love in the time of money\" is...\n",
              "                               ...                        \n",
              "49995    i thought this movie did a down right good job...\n",
              "49996    bad plot, bad dialogue, bad acting, idiotic di...\n",
              "49997    i am a catholic taught in parochial elementary...\n",
              "49998    i'm going to have to disagree with the previou...\n",
              "49999    no one expects the star trek movies to be high...\n",
              "Name: review, Length: 50000, dtype: object"
            ]
          },
          "execution_count": 37,
          "metadata": {},
          "output_type": "execute_result"
        }
      ],
      "source": [
        "data[\"review\"]"
      ]
    },
    {
      "cell_type": "markdown",
      "source": [
        "#Removing URL's"
      ],
      "metadata": {
        "id": "gJ_QqiRFYY-T"
      }
    },
    {
      "cell_type": "code",
      "execution_count": null,
      "metadata": {
        "id": "lTwwtWujXVFr"
      },
      "outputs": [],
      "source": [
        "import re  # Import the regular expression module\n",
        "def remove_url(text):\n",
        "    pattern = re.compile(r'https?://\\S+|www\\.\\S+')  # Compile a regular expression pattern to match URLs\n",
        "    return pattern.sub(\"\", text)  # Replace all occurrences of URLs with an empty string in the input text"
      ]
    },
    {
      "cell_type": "code",
      "execution_count": null,
      "metadata": {
        "id": "8nohL-i-XVFr",
        "outputId": "8a229eeb-861a-4642-dd65-47e3c89351be"
      },
      "outputs": [
        {
          "data": {
            "text/plain": [
              "'checkout to my youtube channel '"
            ]
          },
          "execution_count": 20,
          "metadata": {},
          "output_type": "execute_result"
        }
      ],
      "source": [
        "remove_url(text1)"
      ]
    },
    {
      "cell_type": "code",
      "execution_count": null,
      "metadata": {
        "id": "Oh7fd1cPXVFs"
      },
      "outputs": [],
      "source": [
        "text1=\"checkout to my youtube channel https://www.youtube.com/watch?v=V9tJCQoBakA&t=225s\"\n",
        "text2=\"please try to google here www.google.com\"\n",
        "text3=\"here is my url which is not secure http://dummy.com\""
      ]
    },
    {
      "cell_type": "markdown",
      "source": [
        "# Removing Punctuations"
      ],
      "metadata": {
        "id": "lcOh2PQeHxYv"
      }
    },
    {
      "cell_type": "code",
      "execution_count": null,
      "metadata": {
        "id": "QazdEI8cXVFs"
      },
      "outputs": [],
      "source": [
        "import string"
      ]
    },
    {
      "cell_type": "code",
      "execution_count": null,
      "metadata": {
        "id": "oi20VBlaXVFs",
        "outputId": "b7dfb364-dc9f-4931-d385-c06d7514aa28"
      },
      "outputs": [
        {
          "data": {
            "text/plain": [
              "'!\"#$%&\\'()*+,-./:;<=>?@[\\\\]^_`{|}~'"
            ]
          },
          "execution_count": 23,
          "metadata": {},
          "output_type": "execute_result"
        }
      ],
      "source": [
        "string.punctuation"
      ]
    },
    {
      "cell_type": "code",
      "execution_count": null,
      "metadata": {
        "id": "IpnOba7hXVFs"
      },
      "outputs": [],
      "source": [
        "exclude=string.punctuation"
      ]
    },
    {
      "cell_type": "code",
      "execution_count": null,
      "metadata": {
        "id": "YwjRvfknXVFt",
        "outputId": "0967de63-6abc-49d6-aff2-7fc661bf7b43"
      },
      "outputs": [
        {
          "name": "stdout",
          "output_type": "stream",
          "text": [
            "!\n",
            "\"\n",
            "#\n",
            "$\n",
            "%\n",
            "&\n",
            "'\n",
            "(\n",
            ")\n",
            "*\n",
            "+\n",
            ",\n",
            "-\n",
            ".\n",
            "/\n",
            ":\n",
            ";\n",
            "<\n",
            "=\n",
            ">\n",
            "?\n",
            "@\n",
            "[\n",
            "\\\n",
            "]\n",
            "^\n",
            "_\n",
            "`\n",
            "{\n",
            "|\n",
            "}\n",
            "~\n"
          ]
        }
      ],
      "source": [
        "for char in exclude:\n",
        "    print(char)"
      ]
    },
    {
      "cell_type": "code",
      "execution_count": null,
      "metadata": {
        "id": "_2NbVeDBXVFt"
      },
      "outputs": [],
      "source": [
        "def remove_punc(text):\n",
        "    for char in exclude:\n",
        "        text=text.replace(char,\"\")\n",
        "    return text"
      ]
    },
    {
      "cell_type": "code",
      "execution_count": null,
      "metadata": {
        "id": "jQKbE69HXVFt"
      },
      "outputs": [],
      "source": [
        "text=\"string @ *() with punctuaion.!\""
      ]
    },
    {
      "cell_type": "code",
      "execution_count": null,
      "metadata": {
        "id": "myAkZIjnXVFt",
        "outputId": "a5001fee-bade-44c8-e993-82d667da8418"
      },
      "outputs": [
        {
          "data": {
            "text/plain": [
              "'string   with punctuaion'"
            ]
          },
          "execution_count": 28,
          "metadata": {},
          "output_type": "execute_result"
        }
      ],
      "source": [
        "remove_punc(text)"
      ]
    },
    {
      "cell_type": "code",
      "execution_count": null,
      "metadata": {
        "id": "ROtCRAcSXVFu"
      },
      "outputs": [],
      "source": [
        "text2=\"my name is s@nny sa##vita!!!!!!!!!\""
      ]
    },
    {
      "cell_type": "code",
      "execution_count": null,
      "metadata": {
        "id": "TEyn9IEeXVFu",
        "outputId": "37ce3f3d-17ee-437e-e2ee-c8167be30afe"
      },
      "outputs": [
        {
          "data": {
            "text/plain": [
              "'my name is snny savita'"
            ]
          },
          "execution_count": 30,
          "metadata": {},
          "output_type": "execute_result"
        }
      ],
      "source": [
        "remove_punc(text2)"
      ]
    },
    {
      "cell_type": "markdown",
      "source": [
        "#Removing punctuation with text.translate"
      ],
      "metadata": {
        "id": "nxOdhihZoHKP"
      }
    },
    {
      "cell_type": "markdown",
      "source": [
        "-------------------------------------------------------------------------------------------------------------------------------------------------------"
      ],
      "metadata": {
        "id": "iTnMDEDWldA_"
      }
    },
    {
      "cell_type": "markdown",
      "source": [
        "Certainly! str.maketrans() and str.translate() are two string methods in Python used for translation or transformation of strings. Let's break them down:\n",
        "\n",
        "str.maketrans(x, y, z=None): This function creates a translation table. It returns a translation table suitable for passing to str.translate(). Here's what each parameter does:\n",
        "x: If x is a string, it specifies the characters to be replaced. If it's None, it specifies that no characters are replaced.\n",
        "y: If y is a string, it specifies the characters to replace x with. If it's None, it specifies that the characters specified by x should be removed.\n",
        "z: This parameter is optional. If provided, it must be a string, whose characters will be mapped to None in the result."
      ],
      "metadata": {
        "id": "KGdINMwRlL1Q"
      }
    },
    {
      "cell_type": "markdown",
      "source": [
        "str.translate(table): This function returns a copy of the string in which each character has been mapped through the given translation table. The translation table is created by"
      ],
      "metadata": {
        "id": "GvNCbl3llPiR"
      }
    },
    {
      "cell_type": "code",
      "source": [
        "text = \"abc\"\n",
        "translation_table = str.maketrans(\"abc\", \"123\")\n",
        "translated_text = text.translate(translation_table)"
      ],
      "metadata": {
        "id": "ZY4W6T8wlSWk"
      },
      "execution_count": null,
      "outputs": []
    },
    {
      "cell_type": "markdown",
      "source": [
        "This will give \"123\" because each character 'a', 'b', and 'c' is mapped to '1', '2', and '3' respectively according to the translation table."
      ],
      "metadata": {
        "id": "1BAD1xi-lWN2"
      }
    },
    {
      "cell_type": "markdown",
      "source": [
        "another example"
      ],
      "metadata": {
        "id": "Cg4dFpDJnrvv"
      }
    },
    {
      "cell_type": "markdown",
      "source": [
        "text = \"Hello, world!\"\n",
        "exclude = \",!\"\n",
        "translated_text = text.translate(str.maketrans(\"abc\", \"123\", exclude))\n",
        "print(translated_text)\n"
      ],
      "metadata": {
        "id": "-95RrsBpnqly"
      }
    },
    {
      "cell_type": "markdown",
      "source": [
        "str.maketrans(\"abc\", \"123\", exclude): This creates a translation table where 'a' is mapped to '1', 'b' to '2', and 'c' to '3'. Additionally, it removes all characters specified in the exclude string.\n",
        "text.translate(str.maketrans(\"abc\", \"123\", exclude)): This applies the translation table to the text variable, translating 'a' to '1', 'b' to '2', and 'c' to '3', and removing all characters specified in the exclude string.\n",
        "print(translated_text): This prints the result of the translation."
      ],
      "metadata": {
        "id": "8Ap8F3-WnwTm"
      }
    },
    {
      "cell_type": "markdown",
      "source": [
        "--------------------------------------------------------------------------------------------------------"
      ],
      "metadata": {
        "id": "HbMfArSplkBm"
      }
    },
    {
      "cell_type": "code",
      "execution_count": null,
      "metadata": {
        "id": "1jwM8w4CXVFu"
      },
      "outputs": [],
      "source": [
        "def remove_punc1(text):\n",
        "    \"\"\"\n",
        "    This function removes punctuation marks from a given text.\n",
        "\n",
        "    Parameters:\n",
        "        text (str): The input text from which punctuation marks will be removed.\n",
        "\n",
        "    Returns:\n",
        "        str: The input text with all punctuation marks removed.\n",
        "    \"\"\"\n",
        "    # Using the translate method to remove punctuation marks\n",
        "    return text.translate(str.maketrans(\"\", \"\", exclude))"
      ]
    },
    {
      "cell_type": "code",
      "execution_count": null,
      "metadata": {
        "id": "iihp35ssXVFu",
        "outputId": "9e329047-6355-4260-f0f7-09ddba2a161c"
      },
      "outputs": [
        {
          "data": {
            "text/plain": [
              "'string   with punctuaion'"
            ]
          },
          "execution_count": 13,
          "metadata": {},
          "output_type": "execute_result"
        }
      ],
      "source": [
        "remove_punc1(text)"
      ]
    },
    {
      "cell_type": "code",
      "execution_count": null,
      "metadata": {
        "id": "n77k4LS6XVFv"
      },
      "outputs": [],
      "source": [
        "data[\"review\"]=data[\"review\"].apply(remove_punc)"
      ]
    },
    {
      "cell_type": "markdown",
      "source": [
        "#Removing Chat words\n"
      ],
      "metadata": {
        "id": "-hfxHKT_omyJ"
      }
    },
    {
      "cell_type": "markdown",
      "source": [
        "You can use this github link to get different slang words and chat words list\n",
        "\n",
        "https://github.com/rishabhverma17/sms_slang_translator/blob/master/slang.txt"
      ],
      "metadata": {
        "id": "Op-5wa_sozv-"
      }
    },
    {
      "cell_type": "code",
      "execution_count": null,
      "metadata": {
        "id": "pkDlMPl6XVFv"
      },
      "outputs": [],
      "source": [
        "text=\"FYI this is not true\"\n",
        "text2=\"LAMO the class was so funny\"\n",
        "text3=\"i want report ASAP\""
      ]
    },
    {
      "cell_type": "code",
      "execution_count": null,
      "metadata": {
        "id": "QHUcsyVAXVFv"
      },
      "outputs": [],
      "source": [
        "chat_words={\n",
        "   \" AFAIK\":\"As Far As I Know\",\n",
        "\"AFK\": \"Away From Keyboard\",\n",
        "\"ASAP\":\"As Soon As Possible\",\n",
        "\"BTW\":\"By The Way\",\n",
        "\"B4\":\"Before\",\n",
        "\"LAMO\":\"Laugh My A.. Off\",\n",
        "\"FYI\":\"For your information\"\n",
        "}"
      ]
    },
    {
      "cell_type": "code",
      "execution_count": null,
      "metadata": {
        "id": "oEWqhJV7XVFw",
        "outputId": "4bafb49a-9f00-4cfd-af36-aca541091b04"
      },
      "outputs": [
        {
          "data": {
            "text/plain": [
              "'As Soon As Possible'"
            ]
          },
          "execution_count": 41,
          "metadata": {},
          "output_type": "execute_result"
        }
      ],
      "source": [
        "chat_words[\"ASAP\"]"
      ]
    },
    {
      "cell_type": "code",
      "source": [
        "#input=Text ; output=Text without chatwords"
      ],
      "metadata": {
        "id": "F9q03tcMtLvh"
      },
      "execution_count": null,
      "outputs": []
    },
    {
      "cell_type": "code",
      "execution_count": null,
      "metadata": {
        "id": "NMy6JKNsXVFw"
      },
      "outputs": [],
      "source": [
        "def chat_conversion(text):\n",
        "    # Create an empty list to store the modified words\n",
        "    new_text = []\n",
        "\n",
        "    # Split the input text into individual words\n",
        "    for word in text.split():\n",
        "        # Check if the word in uppercase form exists in a predefined dictionary called chat_words\n",
        "        if word.upper() in chat_words:\n",
        "            # If the word exists in the dictionary, replace it with its corresponding value\n",
        "            new_text.append(chat_words[word.upper()])\n",
        "        else:\n",
        "            # If the word doesn't exist in the dictionary, keep it unchanged\n",
        "            new_text.append(word)\n",
        "\n",
        "    # Join the modified words back into a single string\n",
        "    return \" \".join(new_text)"
      ]
    },
    {
      "cell_type": "code",
      "execution_count": null,
      "metadata": {
        "id": "D5fUaxDqXVFw",
        "outputId": "77913c5c-5d0e-4cba-c867-d148366a4b8b"
      },
      "outputs": [
        {
          "data": {
            "text/plain": [
              "'FYI this is not true'"
            ]
          },
          "execution_count": 38,
          "metadata": {},
          "output_type": "execute_result"
        }
      ],
      "source": [
        "text"
      ]
    },
    {
      "cell_type": "code",
      "execution_count": null,
      "metadata": {
        "id": "_tgbvtTTXVFx",
        "outputId": "7eb63875-c5f7-460d-9065-ff1fdd2d34fa"
      },
      "outputs": [
        {
          "data": {
            "text/plain": [
              "['FYI', 'this', 'is', 'not', 'true']"
            ]
          },
          "execution_count": 39,
          "metadata": {},
          "output_type": "execute_result"
        }
      ],
      "source": [
        "text.split()"
      ]
    },
    {
      "cell_type": "code",
      "execution_count": null,
      "metadata": {
        "id": "VDqsEQ6ZXVFx",
        "outputId": "de53b6f5-c929-4e77-a545-bb9a78a0c153"
      },
      "outputs": [
        {
          "name": "stdout",
          "output_type": "stream",
          "text": [
            "As Soon As Possible\n"
          ]
        }
      ],
      "source": [
        " for w in text3.split():\n",
        "        if w.upper() in chat_words:\n",
        "            print(chat_words[w.upper()])"
      ]
    },
    {
      "cell_type": "code",
      "execution_count": null,
      "metadata": {
        "id": "RExHZUxXXVFy",
        "outputId": "cc2409aa-4e65-492c-d79f-760700d47872"
      },
      "outputs": [
        {
          "data": {
            "text/plain": [
              "'As Soon As Possible this is not true'"
            ]
          },
          "execution_count": 49,
          "metadata": {},
          "output_type": "execute_result"
        }
      ],
      "source": [
        "\" \".join([\"As Soon As Possible\", 'this', 'is', 'not', 'true'])"
      ]
    },
    {
      "cell_type": "code",
      "execution_count": null,
      "metadata": {
        "id": "z2D5uZzCXVFy",
        "outputId": "77669bd7-bb61-449b-bfe2-a181fb8b109e"
      },
      "outputs": [
        {
          "data": {
            "text/plain": [
              "'For your information this is not true'"
            ]
          },
          "execution_count": 35,
          "metadata": {},
          "output_type": "execute_result"
        }
      ],
      "source": [
        "chat_conversion(text)"
      ]
    },
    {
      "cell_type": "code",
      "execution_count": null,
      "metadata": {
        "id": "3P4DYZYQXVFy",
        "outputId": "9082589c-7c88-48c5-bc6b-da1d6b74d9d7"
      },
      "outputs": [
        {
          "data": {
            "text/plain": [
              "'Laugh My A.. Off the class was so funny'"
            ]
          },
          "execution_count": 36,
          "metadata": {},
          "output_type": "execute_result"
        }
      ],
      "source": [
        "chat_conversion(text2)"
      ]
    },
    {
      "cell_type": "code",
      "execution_count": null,
      "metadata": {
        "id": "e6n9Pzh3XVFz",
        "outputId": "467af8aa-9876-49c1-c7a8-d28c16cdaff7"
      },
      "outputs": [
        {
          "data": {
            "text/plain": [
              "'i want report As Soon As Possible'"
            ]
          },
          "execution_count": 37,
          "metadata": {},
          "output_type": "execute_result"
        }
      ],
      "source": [
        "chat_conversion(text3)"
      ]
    },
    {
      "cell_type": "markdown",
      "source": [
        "#Spell Correction"
      ],
      "metadata": {
        "id": "4jhdJuaJe6R5"
      }
    },
    {
      "cell_type": "code",
      "execution_count": null,
      "metadata": {
        "id": "Sr8tx1SNXVFz"
      },
      "outputs": [],
      "source": [
        "# spell correction"
      ]
    },
    {
      "cell_type": "code",
      "execution_count": null,
      "metadata": {
        "id": "J8DJT_RiXVFz"
      },
      "outputs": [],
      "source": [
        "text=\"this is my processing notebook pleae download this ntebook\""
      ]
    },
    {
      "cell_type": "code",
      "execution_count": null,
      "metadata": {
        "id": "pH9nYZjdXVFz"
      },
      "outputs": [],
      "source": [
        "textblob\n",
        "spacy\n",
        "nltk"
      ]
    },
    {
      "cell_type": "code",
      "execution_count": null,
      "metadata": {
        "id": "unsW69CmXVFz"
      },
      "outputs": [],
      "source": [
        "import textblob"
      ]
    },
    {
      "cell_type": "code",
      "execution_count": null,
      "metadata": {
        "id": "Wj0ALQlgXVF0"
      },
      "outputs": [],
      "source": [
        "from textblob import TextBlob"
      ]
    },
    {
      "cell_type": "code",
      "execution_count": null,
      "metadata": {
        "id": "vkW-F96yXVF0"
      },
      "outputs": [],
      "source": [
        "txtblob=TextBlob(text)"
      ]
    },
    {
      "cell_type": "code",
      "execution_count": null,
      "metadata": {
        "id": "aOdCi3T8XVF0",
        "outputId": "09917b99-ce5a-461e-d4df-b4b9a16d4761"
      },
      "outputs": [
        {
          "data": {
            "text/plain": [
              "'this is my processing notebook please download this notebook'"
            ]
          },
          "execution_count": 57,
          "metadata": {},
          "output_type": "execute_result"
        }
      ],
      "source": [
        "txtblob.correct().string"
      ]
    },
    {
      "cell_type": "code",
      "execution_count": null,
      "metadata": {
        "id": "UzbzVhPBXVF1"
      },
      "outputs": [],
      "source": [
        "text2=\"here is my nme that is sny savita and he is good mntor\""
      ]
    },
    {
      "cell_type": "code",
      "execution_count": null,
      "metadata": {
        "id": "YbaLTb7dXVF2"
      },
      "outputs": [],
      "source": [
        "txtblob2=TextBlob(text2)"
      ]
    },
    {
      "cell_type": "code",
      "execution_count": null,
      "metadata": {
        "id": "RU1K2es_XVF2",
        "outputId": "d918c1d8-06f7-465e-d99d-00dd01dbcd15"
      },
      "outputs": [
        {
          "data": {
            "text/plain": [
              "'here is my me that is any cavity and he is good motor'"
            ]
          },
          "execution_count": 60,
          "metadata": {},
          "output_type": "execute_result"
        }
      ],
      "source": [
        "txtblob2.correct().string"
      ]
    },
    {
      "cell_type": "code",
      "execution_count": null,
      "metadata": {
        "id": "x_IfQ9K-XVF3"
      },
      "outputs": [],
      "source": [
        "text3=\"I'm brav ad stong prson\""
      ]
    },
    {
      "cell_type": "code",
      "execution_count": null,
      "metadata": {
        "id": "Y6Cp5AezXVF3"
      },
      "outputs": [],
      "source": [
        "txtblob3=TextBlob(text3)"
      ]
    },
    {
      "cell_type": "code",
      "execution_count": null,
      "metadata": {
        "id": "orOshrAqXVF3",
        "outputId": "7dd7de60-be07-442e-fb8a-5cc07371ebfb"
      },
      "outputs": [
        {
          "data": {
            "text/plain": [
              "\"I'm brave ad strong person\""
            ]
          },
          "execution_count": 63,
          "metadata": {},
          "output_type": "execute_result"
        }
      ],
      "source": [
        "txtblob3.correct().string"
      ]
    },
    {
      "cell_type": "markdown",
      "source": [
        "# stop word removing"
      ],
      "metadata": {
        "id": "1IEw0CkFQN5l"
      }
    },
    {
      "cell_type": "code",
      "execution_count": null,
      "metadata": {
        "id": "lM8iYv0WXVF4"
      },
      "outputs": [],
      "source": [
        "import nltk"
      ]
    },
    {
      "cell_type": "code",
      "execution_count": null,
      "metadata": {
        "id": "JyawLA5eXVF5"
      },
      "outputs": [],
      "source": [
        "from nltk.corpus import stopwords"
      ]
    },
    {
      "cell_type": "code",
      "execution_count": null,
      "metadata": {
        "id": "D-cwjmGoXVF5",
        "outputId": "95d3e685-f5e7-4298-fc95-489df8a22031"
      },
      "outputs": [
        {
          "name": "stderr",
          "output_type": "stream",
          "text": [
            "[nltk_data] Downloading package stopwords to /config/nltk_data...\n",
            "[nltk_data]   Unzipping corpora/stopwords.zip.\n"
          ]
        },
        {
          "data": {
            "text/plain": [
              "True"
            ]
          },
          "execution_count": 68,
          "metadata": {},
          "output_type": "execute_result"
        }
      ],
      "source": [
        "nltk.download('stopwords')"
      ]
    },
    {
      "cell_type": "code",
      "execution_count": null,
      "metadata": {
        "id": "fTXQTBxqXVF5",
        "outputId": "11c84d4a-b4bf-423c-d49e-ec763c4ab9bd"
      },
      "outputs": [
        {
          "data": {
            "text/plain": [
              "['i',\n",
              " 'me',\n",
              " 'my',\n",
              " 'myself',\n",
              " 'we',\n",
              " 'our',\n",
              " 'ours',\n",
              " 'ourselves',\n",
              " 'you',\n",
              " \"you're\",\n",
              " \"you've\",\n",
              " \"you'll\",\n",
              " \"you'd\",\n",
              " 'your',\n",
              " 'yours',\n",
              " 'yourself',\n",
              " 'yourselves',\n",
              " 'he',\n",
              " 'him',\n",
              " 'his',\n",
              " 'himself',\n",
              " 'she',\n",
              " \"she's\",\n",
              " 'her',\n",
              " 'hers',\n",
              " 'herself',\n",
              " 'it',\n",
              " \"it's\",\n",
              " 'its',\n",
              " 'itself',\n",
              " 'they',\n",
              " 'them',\n",
              " 'their',\n",
              " 'theirs',\n",
              " 'themselves',\n",
              " 'what',\n",
              " 'which',\n",
              " 'who',\n",
              " 'whom',\n",
              " 'this',\n",
              " 'that',\n",
              " \"that'll\",\n",
              " 'these',\n",
              " 'those',\n",
              " 'am',\n",
              " 'is',\n",
              " 'are',\n",
              " 'was',\n",
              " 'were',\n",
              " 'be',\n",
              " 'been',\n",
              " 'being',\n",
              " 'have',\n",
              " 'has',\n",
              " 'had',\n",
              " 'having',\n",
              " 'do',\n",
              " 'does',\n",
              " 'did',\n",
              " 'doing',\n",
              " 'a',\n",
              " 'an',\n",
              " 'the',\n",
              " 'and',\n",
              " 'but',\n",
              " 'if',\n",
              " 'or',\n",
              " 'because',\n",
              " 'as',\n",
              " 'until',\n",
              " 'while',\n",
              " 'of',\n",
              " 'at',\n",
              " 'by',\n",
              " 'for',\n",
              " 'with',\n",
              " 'about',\n",
              " 'against',\n",
              " 'between',\n",
              " 'into',\n",
              " 'through',\n",
              " 'during',\n",
              " 'before',\n",
              " 'after',\n",
              " 'above',\n",
              " 'below',\n",
              " 'to',\n",
              " 'from',\n",
              " 'up',\n",
              " 'down',\n",
              " 'in',\n",
              " 'out',\n",
              " 'on',\n",
              " 'off',\n",
              " 'over',\n",
              " 'under',\n",
              " 'again',\n",
              " 'further',\n",
              " 'then',\n",
              " 'once',\n",
              " 'here',\n",
              " 'there',\n",
              " 'when',\n",
              " 'where',\n",
              " 'why',\n",
              " 'how',\n",
              " 'all',\n",
              " 'any',\n",
              " 'both',\n",
              " 'each',\n",
              " 'few',\n",
              " 'more',\n",
              " 'most',\n",
              " 'other',\n",
              " 'some',\n",
              " 'such',\n",
              " 'no',\n",
              " 'nor',\n",
              " 'not',\n",
              " 'only',\n",
              " 'own',\n",
              " 'same',\n",
              " 'so',\n",
              " 'than',\n",
              " 'too',\n",
              " 'very',\n",
              " 's',\n",
              " 't',\n",
              " 'can',\n",
              " 'will',\n",
              " 'just',\n",
              " 'don',\n",
              " \"don't\",\n",
              " 'should',\n",
              " \"should've\",\n",
              " 'now',\n",
              " 'd',\n",
              " 'll',\n",
              " 'm',\n",
              " 'o',\n",
              " 're',\n",
              " 've',\n",
              " 'y',\n",
              " 'ain',\n",
              " 'aren',\n",
              " \"aren't\",\n",
              " 'couldn',\n",
              " \"couldn't\",\n",
              " 'didn',\n",
              " \"didn't\",\n",
              " 'doesn',\n",
              " \"doesn't\",\n",
              " 'hadn',\n",
              " \"hadn't\",\n",
              " 'hasn',\n",
              " \"hasn't\",\n",
              " 'haven',\n",
              " \"haven't\",\n",
              " 'isn',\n",
              " \"isn't\",\n",
              " 'ma',\n",
              " 'mightn',\n",
              " \"mightn't\",\n",
              " 'mustn',\n",
              " \"mustn't\",\n",
              " 'needn',\n",
              " \"needn't\",\n",
              " 'shan',\n",
              " \"shan't\",\n",
              " 'shouldn',\n",
              " \"shouldn't\",\n",
              " 'wasn',\n",
              " \"wasn't\",\n",
              " 'weren',\n",
              " \"weren't\",\n",
              " 'won',\n",
              " \"won't\",\n",
              " 'wouldn',\n",
              " \"wouldn't\"]"
            ]
          },
          "execution_count": 69,
          "metadata": {},
          "output_type": "execute_result"
        }
      ],
      "source": [
        "stopwords.words(\"english\")"
      ]
    },
    {
      "cell_type": "code",
      "execution_count": null,
      "metadata": {
        "id": "-JuwfA_0XVF6"
      },
      "outputs": [],
      "source": [
        "def remove_stopwords(text):\n",
        "    new_text=[]\n",
        "\n",
        "    for word in text.split():\n",
        "        if word in stopwords.words(\"english\"):\n",
        "            new_text.append(\"\")\n",
        "        else:\n",
        "            new_text.append(word.strip())\n",
        "\n",
        "\n",
        "    return \" \".join(new_text).replace(\"   \",\"\")"
      ]
    },
    {
      "cell_type": "code",
      "execution_count": null,
      "metadata": {
        "id": "M7dcfoCrXVF6"
      },
      "outputs": [],
      "source": [
        "text=\"i am sunny and we are learning nlp and here is why nlp are important\""
      ]
    },
    {
      "cell_type": "code",
      "execution_count": null,
      "metadata": {
        "id": "9AlypRnBXVF6",
        "outputId": "64174881-2587-44d0-fa9f-70ebf57cf590"
      },
      "outputs": [
        {
          "data": {
            "text/plain": [
              "'  sunny learning nlp  nlp  important'"
            ]
          },
          "execution_count": 99,
          "metadata": {},
          "output_type": "execute_result"
        }
      ],
      "source": [
        "remove_stopwords(text)"
      ]
    },
    {
      "cell_type": "code",
      "execution_count": null,
      "metadata": {
        "id": "vrVLKXpfXVF7"
      },
      "outputs": [],
      "source": [
        "def remove_stopwords(text):\n",
        "\n",
        "  new_text=[]\n",
        "  for word in text.split():\n",
        "    if word not in Stopword:\n",
        "      new_text.append(word)\n",
        "  return \" \".join(new_text)\n"
      ]
    },
    {
      "cell_type": "markdown",
      "source": [
        "# Removal of Emoji"
      ],
      "metadata": {
        "id": "INC-rt5ESe_L"
      }
    },
    {
      "cell_type": "code",
      "execution_count": null,
      "metadata": {
        "id": "IDau9jGDXVF7"
      },
      "outputs": [],
      "source": [
        "# emoji\n",
        "\n",
        "import emoji\n"
      ]
    },
    {
      "cell_type": "code",
      "execution_count": null,
      "metadata": {
        "id": "tjxzNBwcXVF8"
      },
      "outputs": [],
      "source": [
        "original_text = \"Hello,😊 how are you today? 🌟\""
      ]
    },
    {
      "cell_type": "code",
      "execution_count": null,
      "metadata": {
        "id": "ppyNEQOyXVF8"
      },
      "outputs": [],
      "source": [
        "def remove_emoji(text):\n",
        "    clean_text=emoji.demojize(text)\n",
        "    return clean_text"
      ]
    },
    {
      "cell_type": "code",
      "execution_count": null,
      "metadata": {
        "id": "oyj97jQPXVF8",
        "outputId": "fc7f5c38-20fc-4560-a549-15a9b417af32"
      },
      "outputs": [
        {
          "data": {
            "text/plain": [
              "'Hello,:smiling_face_with_smiling_eyes: how are you today? :glowing_star:'"
            ]
          },
          "execution_count": 114,
          "metadata": {},
          "output_type": "execute_result"
        }
      ],
      "source": [
        "remove_emoji(original_text)"
      ]
    },
    {
      "cell_type": "code",
      "execution_count": null,
      "metadata": {
        "id": "IaJSNzgAXVF9",
        "outputId": "8de9f121-b093-4400-cedf-b731b9b807ae"
      },
      "outputs": [
        {
          "name": "stdout",
          "output_type": "stream",
          "text": [
            "True\n"
          ]
        }
      ],
      "source": [
        "print(emoji.is_emoji(\"👍\"))"
      ]
    },
    {
      "cell_type": "code",
      "execution_count": null,
      "metadata": {
        "id": "Jw3HjWwbXVF9",
        "outputId": "86d0780b-39f4-4a4e-b499-cf5e2e3fdd37"
      },
      "outputs": [
        {
          "name": "stdout",
          "output_type": "stream",
          "text": [
            "False\n"
          ]
        }
      ],
      "source": [
        "print(emoji.is_emoji(\"thumb up\"))"
      ]
    },
    {
      "cell_type": "code",
      "execution_count": null,
      "metadata": {
        "id": "vs_JwNHUXVF9"
      },
      "outputs": [],
      "source": [
        "text=\"\"\"Hello, 😃💁😃💁 People\n",
        "•🐻🌻 Animals\n",
        "•🍔🍹 Food\n",
        "•🎷⚽ Activities\n",
        "•🚘🌇 Travel\n",
        "•💡🎉 Objects\n",
        "•💖🔣 Symbols\n",
        "•🎌🏳️‍🌈 Flags\"\"\"\n"
      ]
    },
    {
      "cell_type": "code",
      "execution_count": null,
      "metadata": {
        "id": "dhIY8D5FXVF-"
      },
      "outputs": [],
      "source": [
        "text2=\"🌟 Hello there! 🌈 I hope your day is filled with joy and positivity! 🌞 Just wanted to say that you're awesome! 🚀 Keep shining bright like the stars! ✨ If you need a virtual hug, here's one for you 🤗. Remember, you've got this! 💪 Sending good vibes your way! 🌌🌺🌟\"\n"
      ]
    },
    {
      "cell_type": "code",
      "execution_count": null,
      "metadata": {
        "id": "EQtiSON7XVF-",
        "outputId": "eb08e923-00ba-498d-c4d5-1a9caa39e8a9"
      },
      "outputs": [
        {
          "name": "stdout",
          "output_type": "stream",
          "text": [
            "Hello, :grinning_face_with_big_eyes::person_tipping_hand::grinning_face_with_big_eyes::person_tipping_hand: People\n",
            "•:bear::sunflower: Animals\n",
            "•:hamburger::tropical_drink: Food\n",
            "•:saxophone::soccer_ball: Activities\n",
            "•:oncoming_automobile::sunset: Travel\n",
            "•:light_bulb::party_popper: Objects\n",
            "•:sparkling_heart::input_symbols: Symbols\n",
            "•:crossed_flags::rainbow_flag: Flags\n"
          ]
        }
      ],
      "source": [
        "print(remove_emoji(text))"
      ]
    },
    {
      "cell_type": "code",
      "execution_count": null,
      "metadata": {
        "id": "zaxdPHwJXVF_",
        "outputId": "3e744bc5-6faa-4329-d06b-dee4cccd38ea"
      },
      "outputs": [
        {
          "name": "stdout",
          "output_type": "stream",
          "text": [
            ":glowing_star: Hello there! :rainbow: I hope your day is filled with joy and positivity! :sun_with_face: Just wanted to say that you're awesome! :rocket: Keep shining bright like the stars! :sparkles: If you need a virtual hug, here's one for you :smiling_face_with_open_hands:. Remember, you've got this! :flexed_biceps: Sending good vibes your way! :milky_way::hibiscus::glowing_star:\n"
          ]
        }
      ],
      "source": [
        "print(remove_emoji(text2))"
      ]
    },
    {
      "cell_type": "code",
      "execution_count": null,
      "metadata": {
        "id": "zaSfw8CDXVF_"
      },
      "outputs": [],
      "source": [
        "text4=\"\"\"\n",
        "🌟 \"Hello there! Hope your day is as bright as the stars!\"\n",
        "🌈 \"Wishing you a colorful and joyful day ahead!\"\n",
        "🌸 \"Sending you virtual flowers to brighten your day!\"\n",
        "🎉 \"Celebrate every small victory! You deserve it!\"\n",
        "🤗 \"Virtual hug coming your way! You're not alone.\"\n",
        "🌞 \"Rise and shine! Make today amazing!\"\n",
        "🍀 \"Good luck on your endeavors! You've got this!\"\n",
        "🎈 \"Life is a party! Enjoy every moment!\"\n",
        "📚 \"Study hard and ace those exams! You're brilliant!\"\n",
        "🚀 \"Soar high and reach for the stars in all you do!\"\n",
        "\n",
        "\"\"\"\n"
      ]
    },
    {
      "cell_type": "code",
      "execution_count": null,
      "metadata": {
        "id": "H6fZnJ8jXVF_",
        "outputId": "52abc7bc-b6d9-4c5d-8a98-8b4e14ef80cf"
      },
      "outputs": [
        {
          "name": "stdout",
          "output_type": "stream",
          "text": [
            "\n",
            ":glowing_star: \"Hello there! Hope your day is as bright as the stars!\"\n",
            ":rainbow: \"Wishing you a colorful and joyful day ahead!\"\n",
            ":cherry_blossom: \"Sending you virtual flowers to brighten your day!\"\n",
            ":party_popper: \"Celebrate every small victory! You deserve it!\"\n",
            ":smiling_face_with_open_hands: \"Virtual hug coming your way! You're not alone.\"\n",
            ":sun_with_face: \"Rise and shine! Make today amazing!\"\n",
            ":four_leaf_clover: \"Good luck on your endeavors! You've got this!\"\n",
            ":balloon: \"Life is a party! Enjoy every moment!\"\n",
            ":books: \"Study hard and ace those exams! You're brilliant!\"\n",
            ":rocket: \"Soar high and reach for the stars in all you do!\"\n",
            "\n",
            "\n"
          ]
        }
      ],
      "source": [
        "print(remove_emoji(text4))"
      ]
    },
    {
      "cell_type": "code",
      "execution_count": null,
      "metadata": {
        "id": "OkqHw2psXVGA"
      },
      "outputs": [],
      "source": [
        "import re\n",
        "def remove_emojis_manually(text):\n",
        "    emoji_pattern = re.compile(\"[\"\n",
        "                               u\"\\U0001F600-\\U0001F64F\"  # emoticons\n",
        "                               u\"\\U0001F300-\\U0001F5FF\"  # symbols & pictographs\n",
        "                               u\"\\U0001F680-\\U0001F6FF\"  # transport & map symbols\n",
        "                               u\"\\U0001F700-\\U0001F77F\"  # alchemical symbols\n",
        "                               u\"\\U0001F780-\\U0001F7FF\"  # Geometric Shapes Extended\n",
        "                               u\"\\U0001F800-\\U0001F8FF\"  # Supplemental Arrows-C\n",
        "                               u\"\\U0001F900-\\U0001F9FF\"  # Supplemental Symbols and Pictographs\n",
        "                               u\"\\U0001FA00-\\U0001FA6F\"  # Chess Symbols\n",
        "                               u\"\\U0001FA70-\\U0001FAFF\"  # Symbols and Pictographs Extended-A\n",
        "                               u\"\\U00002702-\\U000027B0\"  # Dingbats\n",
        "                               u\"\\U000024C2-\\U0001F251\"\n",
        "                               \"]+\", flags=re.UNICODE)\n",
        "    clean_text = emoji_pattern.sub(r'', text)\n",
        "    return clean_text"
      ]
    },
    {
      "cell_type": "code",
      "execution_count": null,
      "metadata": {
        "id": "3JCjrwMHXVGA",
        "outputId": "579a91f5-ad15-4c13-bd67-1a43cf32d2c3"
      },
      "outputs": [
        {
          "name": "stdout",
          "output_type": "stream",
          "text": [
            "\n",
            " \"Hello there! Hope your day is as bright as the stars!\"\n",
            " \"Wishing you a colorful and joyful day ahead!\"\n",
            " \"Sending you virtual flowers to brighten your day!\"\n",
            " \"Celebrate every small victory! You deserve it!\"\n",
            " \"Virtual hug coming your way! You're not alone.\"\n",
            " \"Rise and shine! Make today amazing!\"\n",
            " \"Good luck on your endeavors! You've got this!\"\n",
            " \"Life is a party! Enjoy every moment!\"\n",
            " \"Study hard and ace those exams! You're brilliant!\"\n",
            " \"Soar high and reach for the stars in all you do!\"\n",
            "\n",
            "\n"
          ]
        }
      ],
      "source": [
        "print(remove_emojis_manually(text4))"
      ]
    },
    {
      "cell_type": "code",
      "execution_count": null,
      "metadata": {
        "id": "H_CpAw_EXVGA",
        "outputId": "42ecdb76-7c05-4413-bb2e-78328f4ea0dc"
      },
      "outputs": [
        {
          "name": "stdout",
          "output_type": "stream",
          "text": [
            "Hello, how are you today? \n"
          ]
        }
      ],
      "source": [
        "print(remove_emojis_manually(original_text))"
      ]
    },
    {
      "cell_type": "markdown",
      "source": [
        "# Tokenization"
      ],
      "metadata": {
        "id": "g80g27FtVJjl"
      }
    },
    {
      "cell_type": "markdown",
      "source": [
        "Basicaly we have two types of or kind of tokenization\n",
        "1. Sentence level(Sentence tokenization) or  contextual sentence level which we usually called Documents\n",
        "2.Work level tokenization which usually called tokenization"
      ],
      "metadata": {
        "id": "FXm8yLCQXYAW"
      }
    },
    {
      "cell_type": "code",
      "execution_count": null,
      "metadata": {
        "id": "dxUae35KXVGB"
      },
      "outputs": [],
      "source": [
        "# split is a simplest way\n",
        "\n",
        "# but lets say split is not working in that case you can with regular expression"
      ]
    },
    {
      "cell_type": "code",
      "execution_count": null,
      "metadata": {
        "id": "JZ9EacGVXVGC"
      },
      "outputs": [],
      "source": [
        "text=\"i am sunny savita ana working as a data scientist\""
      ]
    },
    {
      "cell_type": "code",
      "execution_count": null,
      "metadata": {
        "id": "6hpv_DNvXVGC",
        "outputId": "b85a3523-cc74-4c2b-c221-9f3c7566b014"
      },
      "outputs": [
        {
          "data": {
            "text/plain": [
              "['i',\n",
              " 'am',\n",
              " 'sunny',\n",
              " 'savita',\n",
              " 'ana',\n",
              " 'working',\n",
              " 'as',\n",
              " 'a',\n",
              " 'data',\n",
              " 'scientist']"
            ]
          },
          "execution_count": 133,
          "metadata": {},
          "output_type": "execute_result"
        }
      ],
      "source": [
        "text.split()"
      ]
    },
    {
      "cell_type": "code",
      "execution_count": null,
      "metadata": {
        "id": "8l15aIcGXVGD"
      },
      "outputs": [],
      "source": [
        "text=\"i am sunny savita ana working as a data scientist. i live in banglore. i work in ineuron ai devlopment team\""
      ]
    },
    {
      "cell_type": "code",
      "execution_count": null,
      "metadata": {
        "id": "zWME0ShIXVGD",
        "outputId": "b6da449b-4230-4c87-dad0-7b532feb5530"
      },
      "outputs": [
        {
          "data": {
            "text/plain": [
              "['i am sunny savita ana working as a data scientist',\n",
              " ' i live in banglore',\n",
              " ' i work in ineuron ai devlopment team']"
            ]
          },
          "execution_count": 135,
          "metadata": {},
          "output_type": "execute_result"
        }
      ],
      "source": [
        "text.split(\".\")"
      ]
    },
    {
      "cell_type": "code",
      "execution_count": null,
      "metadata": {
        "id": "FNHudUAmXVGD"
      },
      "outputs": [],
      "source": [
        "text3=\"i live in bangalore!!\""
      ]
    },
    {
      "cell_type": "code",
      "execution_count": null,
      "metadata": {
        "id": "vCJLk8hbXVGD",
        "outputId": "45de27ef-88df-48f4-ec25-adfa9d6fa687"
      },
      "outputs": [
        {
          "data": {
            "text/plain": [
              "['i', 'live', 'in', 'bangalore!!']"
            ]
          },
          "execution_count": 137,
          "metadata": {},
          "output_type": "execute_result"
        }
      ],
      "source": [
        "text3.split()"
      ]
    },
    {
      "cell_type": "code",
      "execution_count": null,
      "metadata": {
        "id": "H-OFUz05XVGE"
      },
      "outputs": [],
      "source": [
        "text4=\"where should i go? i habve 3 days hoilidays, Can you sugguest me?\""
      ]
    },
    {
      "cell_type": "code",
      "execution_count": null,
      "metadata": {
        "id": "iOvGf2ffXVGE",
        "outputId": "69ac93ca-6948-4ccf-abb7-fd40a0f867ed"
      },
      "outputs": [
        {
          "data": {
            "text/plain": [
              "['where should i go? i habve 3 days hoilidays, Can you sugguest me?']"
            ]
          },
          "execution_count": 140,
          "metadata": {},
          "output_type": "execute_result"
        }
      ],
      "source": [
        "text4.split(\".\")"
      ]
    },
    {
      "cell_type": "markdown",
      "source": [
        "Split method having some limitations"
      ],
      "metadata": {
        "id": "smHWrtuqYikl"
      }
    },
    {
      "cell_type": "code",
      "execution_count": null,
      "metadata": {
        "id": "yxOq3228XVGF"
      },
      "outputs": [],
      "source": [
        "import re\n",
        "text3=\"i live in bangalore!!\""
      ]
    },
    {
      "cell_type": "code",
      "execution_count": null,
      "metadata": {
        "id": "QfURS6CdXVGF",
        "outputId": "8c2bc7e5-f47c-408e-a88d-8173971171a1"
      },
      "outputs": [
        {
          "data": {
            "text/plain": [
              "['i', 'live', 'in', 'bangalore']"
            ]
          },
          "execution_count": 143,
          "metadata": {},
          "output_type": "execute_result"
        }
      ],
      "source": [
        "re.findall(\"[\\w]+\",text3)"
      ]
    },
    {
      "cell_type": "markdown",
      "source": [
        "re.findall(): This is a function provided by Python's re module. It is used to find all non-overlapping matches of a pattern in a string and returns them as a list.\n",
        "[\\w]+: This is a regular expression pattern. Let's dissect it further:\n",
        "[\\w]: This is a character class that matches any word character. A word character includes alphanumeric characters (letters and digits) and underscores.\n",
        "+: This quantifier means \"one or more occurrences\". So [\\w]+ matches one or more word characters together."
      ],
      "metadata": {
        "id": "7oUKS9w7ZBT9"
      }
    },
    {
      "cell_type": "code",
      "execution_count": null,
      "metadata": {
        "id": "HU8bikTJXVGF"
      },
      "outputs": [],
      "source": [
        "import nltk"
      ]
    },
    {
      "cell_type": "code",
      "execution_count": null,
      "metadata": {
        "id": "xdH7fu_9XVGG"
      },
      "outputs": [],
      "source": [
        "from nltk.tokenize import word_tokenize,sent_tokenize"
      ]
    },
    {
      "cell_type": "code",
      "execution_count": null,
      "metadata": {
        "id": "Y_PHbU5gXVGH"
      },
      "outputs": [],
      "source": [
        "my_text=\"i am going to visit delhi tomorrow evening\""
      ]
    },
    {
      "cell_type": "code",
      "execution_count": null,
      "metadata": {
        "id": "Z15c-DMoXVGI",
        "outputId": "6ca037c7-072c-4f20-c391-1a9ea232fc0a"
      },
      "outputs": [
        {
          "name": "stderr",
          "output_type": "stream",
          "text": [
            "[nltk_data] Downloading package punkt to /config/nltk_data...\n",
            "[nltk_data]   Unzipping tokenizers/punkt.zip.\n"
          ]
        },
        {
          "data": {
            "text/plain": [
              "True"
            ]
          },
          "execution_count": 148,
          "metadata": {},
          "output_type": "execute_result"
        }
      ],
      "source": [
        "nltk.download(\"punkt\")"
      ]
    },
    {
      "cell_type": "code",
      "execution_count": null,
      "metadata": {
        "id": "N3jFaPiiXVGI",
        "outputId": "05d9cbdb-9f3f-432c-8ca3-dd3757823feb"
      },
      "outputs": [
        {
          "data": {
            "text/plain": [
              "['i', 'am', 'going', 'to', 'visit', 'delhi', 'tomorrow', 'evening']"
            ]
          },
          "execution_count": 149,
          "metadata": {},
          "output_type": "execute_result"
        }
      ],
      "source": [
        "word_tokenize(my_text)"
      ]
    },
    {
      "cell_type": "code",
      "execution_count": null,
      "metadata": {
        "id": "UJGoy7rDXVGI"
      },
      "outputs": [],
      "source": [
        "my_text=\"i am going to visit delhi tomorrow evening!!!!\""
      ]
    },
    {
      "cell_type": "code",
      "execution_count": null,
      "metadata": {
        "id": "kCQ6bEWTXVGJ",
        "outputId": "6f0f94ce-8c58-44ee-be31-528d5dd188ca"
      },
      "outputs": [
        {
          "data": {
            "text/plain": [
              "['i',\n",
              " 'am',\n",
              " 'going',\n",
              " 'to',\n",
              " 'visit',\n",
              " 'delhi',\n",
              " 'tomorrow',\n",
              " 'evening',\n",
              " '!',\n",
              " '!',\n",
              " '!',\n",
              " '!']"
            ]
          },
          "execution_count": 151,
          "metadata": {},
          "output_type": "execute_result"
        }
      ],
      "source": [
        "word_tokenize(my_text)"
      ]
    },
    {
      "cell_type": "code",
      "execution_count": null,
      "metadata": {
        "id": "g_83qVzhXVGJ"
      },
      "outputs": [],
      "source": [
        "my_corpus=\"\"\"Generative artificial intelligence (generative AI, genAI, GenAI, GAI or GenAI[1]) is artificial intelligence capable of generating text, images or other data using generative models,[2] often in response to prompts.[3][4] Generative AI models learn the patterns and structure of their input training data and then generate new data that has similar characteristics.[5][6]\n",
        "\n",
        "Improvements in transformer-based deep neural networks enabled an AI boom of generative AI systems in the early 2020s. These include large language model (LLM) chatbots such as ChatGPT, Copilot, Bard, and LLaMA, and text-to-image artificial intelligence art systems such as Stable Diffusion, Midjourney, and DALL-E.[7][8][9] Companies such as OpenAI, Anthropic, Microsoft, Google, and Baidu as well as numerous smaller firms have developed generative AI models.[3][10][11]\"\"\""
      ]
    },
    {
      "cell_type": "code",
      "execution_count": null,
      "metadata": {
        "id": "yHVsyGJMXVGJ",
        "outputId": "0d6a51e8-9e81-4373-b742-4a873dd62bd8"
      },
      "outputs": [
        {
          "data": {
            "text/plain": [
              "'Generative artificial intelligence (generative AI, genAI, GenAI, GAI or GenAI[1]) is artificial intelligence capable of generating text, images or other data using generative models,[2] often in response to prompts.[3][4] Generative AI models learn the patterns and structure of their input training data and then generate new data that has similar characteristics.[5][6]\\n\\nImprovements in transformer-based deep neural networks enabled an AI boom of generative AI systems in the early 2020s. These include large language model (LLM) chatbots such as ChatGPT, Copilot, Bard, and LLaMA, and text-to-image artificial intelligence art systems such as Stable Diffusion, Midjourney, and DALL-E.[7][8][9] Companies such as OpenAI, Anthropic, Microsoft, Google, and Baidu as well as numerous smaller firms have developed generative AI models.[3][10][11]'"
            ]
          },
          "execution_count": 153,
          "metadata": {},
          "output_type": "execute_result"
        }
      ],
      "source": [
        "my_corpus"
      ]
    },
    {
      "cell_type": "code",
      "execution_count": null,
      "metadata": {
        "id": "u8Mk9mWzXVGK",
        "outputId": "f681871a-73e7-42cb-9784-4021e087cee1"
      },
      "outputs": [
        {
          "data": {
            "text/plain": [
              "['Generative artificial intelligence (generative AI, genAI, GenAI, GAI or GenAI[1]) is artificial intelligence capable of generating text, images or other data using generative models,[2] often in response to prompts.',\n",
              " '[3][4] Generative AI models learn the patterns and structure of their input training data and then generate new data that has similar characteristics.',\n",
              " '[5][6]\\n\\nImprovements in transformer-based deep neural networks enabled an AI boom of generative AI systems in the early 2020s.',\n",
              " 'These include large language model (LLM) chatbots such as ChatGPT, Copilot, Bard, and LLaMA, and text-to-image artificial intelligence art systems such as Stable Diffusion, Midjourney, and DALL-E.[7][8][9] Companies such as OpenAI, Anthropic, Microsoft, Google, and Baidu as well as numerous smaller firms have developed generative AI models.',\n",
              " '[3][10][11]']"
            ]
          },
          "execution_count": 154,
          "metadata": {},
          "output_type": "execute_result"
        }
      ],
      "source": [
        "sent_tokenize(my_corpus)"
      ]
    },
    {
      "cell_type": "code",
      "execution_count": null,
      "metadata": {
        "id": "eH7XgyUFXVGK"
      },
      "outputs": [],
      "source": [
        "# we can do it by using nltk and even with spacy\n",
        "\n",
        "# split\n",
        "# regular expression(simple google)\n",
        "# nltk"
      ]
    },
    {
      "cell_type": "markdown",
      "source": [
        "To consider contextual menaing of words inside the Text and to handle these conditions spacy is better option"
      ],
      "metadata": {
        "id": "CV3O-ZrOdQkt"
      }
    },
    {
      "cell_type": "code",
      "execution_count": null,
      "metadata": {
        "id": "2dtPAJMxXVGM"
      },
      "outputs": [],
      "source": [
        "import spacy\n",
        "\n",
        "# Load the English NLP model from spacy\n",
        "nlp = spacy.load(\"en_core_web_sm\")"
      ]
    },
    {
      "cell_type": "code",
      "execution_count": null,
      "metadata": {
        "id": "eLVNhvEMXVGM"
      },
      "outputs": [],
      "source": [
        "def tokenize_text(text):\n",
        "    # Process the text with the spacy model\n",
        "    doc = nlp(text)\n",
        "\n",
        "    # Extract tokens from the processed document\n",
        "    tokens = [token.text for token in doc]\n",
        "\n",
        "    return tokens"
      ]
    },
    {
      "cell_type": "code",
      "execution_count": null,
      "metadata": {
        "id": "gEnnhWE9XVGN"
      },
      "outputs": [],
      "source": [
        "tokens=tokenize_text(my_corpus)"
      ]
    },
    {
      "cell_type": "code",
      "execution_count": null,
      "metadata": {
        "id": "YGdH17WoXVGN",
        "outputId": "4549667f-6633-4c9f-e477-7b0207caa080"
      },
      "outputs": [
        {
          "name": "stdout",
          "output_type": "stream",
          "text": [
            "Generative\n",
            "artificial\n",
            "intelligence\n",
            "(\n",
            "generative\n",
            "AI\n",
            ",\n",
            "genAI\n",
            ",\n",
            "GenAI\n",
            ",\n",
            "GAI\n",
            "or\n",
            "GenAI[1\n",
            "]\n",
            ")\n",
            "is\n",
            "artificial\n",
            "intelligence\n",
            "capable\n",
            "of\n",
            "generating\n",
            "text\n",
            ",\n",
            "images\n",
            "or\n",
            "other\n",
            "data\n",
            "using\n",
            "generative\n",
            "models,[2\n",
            "]\n",
            "often\n",
            "in\n",
            "response\n",
            "to\n",
            "prompts.[3][4\n",
            "]\n",
            "Generative\n",
            "AI\n",
            "models\n",
            "learn\n",
            "the\n",
            "patterns\n",
            "and\n",
            "structure\n",
            "of\n",
            "their\n",
            "input\n",
            "training\n",
            "data\n",
            "and\n",
            "then\n",
            "generate\n",
            "new\n",
            "data\n",
            "that\n",
            "has\n",
            "similar\n",
            "characteristics.[5][6\n",
            "]\n",
            "\n",
            "\n",
            "\n",
            "Improvements\n",
            "in\n",
            "transformer\n",
            "-\n",
            "based\n",
            "deep\n",
            "neural\n",
            "networks\n",
            "enabled\n",
            "an\n",
            "AI\n",
            "boom\n",
            "of\n",
            "generative\n",
            "AI\n",
            "systems\n",
            "in\n",
            "the\n",
            "early\n",
            "2020s\n",
            ".\n",
            "These\n",
            "include\n",
            "large\n",
            "language\n",
            "model\n",
            "(\n",
            "LLM\n",
            ")\n",
            "chatbots\n",
            "such\n",
            "as\n",
            "ChatGPT\n",
            ",\n",
            "Copilot\n",
            ",\n",
            "Bard\n",
            ",\n",
            "and\n",
            "LLaMA\n",
            ",\n",
            "and\n",
            "text\n",
            "-\n",
            "to\n",
            "-\n",
            "image\n",
            "artificial\n",
            "intelligence\n",
            "art\n",
            "systems\n",
            "such\n",
            "as\n",
            "Stable\n",
            "Diffusion\n",
            ",\n",
            "Midjourney\n",
            ",\n",
            "and\n",
            "DALL\n",
            "-\n",
            "E.[7][8][9\n",
            "]\n",
            "Companies\n",
            "such\n",
            "as\n",
            "OpenAI\n",
            ",\n",
            "Anthropic\n",
            ",\n",
            "Microsoft\n",
            ",\n",
            "Google\n",
            ",\n",
            "and\n",
            "Baidu\n",
            "as\n",
            "well\n",
            "as\n",
            "numerous\n",
            "smaller\n",
            "firms\n",
            "have\n",
            "developed\n",
            "generative\n",
            "AI\n",
            "models.[3][10][11\n",
            "]\n"
          ]
        }
      ],
      "source": [
        "for word in tokens:\n",
        "    print(word)"
      ]
    },
    {
      "cell_type": "code",
      "execution_count": null,
      "metadata": {
        "id": "JDYgsNsyXVGN"
      },
      "outputs": [],
      "source": []
    },
    {
      "cell_type": "code",
      "execution_count": null,
      "metadata": {
        "id": "MSCAsmh7XVGN"
      },
      "outputs": [],
      "source": [
        "# Example usage:\n",
        "text = \"Spacy is a powerful natural language processing library.\"\n",
        "tokens = tokenize_text(text)\n",
        "\n",
        "print(f\"Original text: {text}\")\n",
        "print(f\"Tokens: {tokens}\")\n"
      ]
    },
    {
      "cell_type": "markdown",
      "source": [
        "# stemming and lemmetization"
      ],
      "metadata": {
        "id": "ZDMjm9EWiFis"
      }
    },
    {
      "cell_type": "markdown",
      "source": [
        "Stemming and lemmatization are both techniques used in natural language processing (NLP) to reduce words to their base or root form, but they differ in their approach and the results they produce.\n",
        "\n",
        "Stemming:\n",
        "Stemming is a process of removing affixes from words to obtain their root form, called the stem.\n",
        "\n",
        "It's a heuristic approach that chops off prefixes or suffixes of words to get to the root form.\n",
        "\n",
        "The resulting stems may not always be valid words or meaningful in natural language.\n",
        "\n",
        "Stemming algorithms are typically faster and simpler compared to lemmatization.\n",
        "\n",
        "Examples:\n",
        "Stemming \"running\", \"runner\", and \"ran\" might all result in the stem \"run\".\n",
        "\n",
        "Lemmatization:\n",
        "\n",
        "Lemmatization, on the other hand, is a more sophisticated process that involves accurately identifying the base or dictionary form of a word, called the lemma.\n",
        "It uses lexical knowledge bases to determine the lemma of a word based on its context.\n",
        "\n",
        "Lemmatization ensures that the resulting lemma is a valid word and retains its meaning in the language.\n",
        "\n",
        "It considers the morphological analysis of the words and their parts of speech.\n",
        "Lemmatization algorithms are generally more complex and slower compared to stemming.\n",
        "\n",
        "Examples:\n",
        "\n",
        "Lemmatizing \"running\", \"runner\", and \"ran\" would result in different lemmas: \"run\", \"runner\", and \"run\" respectively."
      ],
      "metadata": {
        "id": "0pHVqcuSiI-L"
      }
    },
    {
      "cell_type": "code",
      "execution_count": null,
      "metadata": {
        "id": "j7NqteUEXVGO"
      },
      "outputs": [],
      "source": [
        "from nltk.stem import PorterStemmer\n",
        "\n",
        "def stemming(text):\n",
        "    obj=PorterStemmer()\n",
        "\n",
        "    stem_word=[obj.stem(word) for word in text.split()]\n",
        "\n",
        "    return stem_word"
      ]
    },
    {
      "cell_type": "code",
      "execution_count": null,
      "metadata": {
        "id": "T8FmoPwNXVGO"
      },
      "outputs": [],
      "source": [
        "input_sentence = \"The quick brown foxes are jumping over the lazy dogs\""
      ]
    },
    {
      "cell_type": "code",
      "execution_count": null,
      "metadata": {
        "id": "dKl7UPqEXVGO",
        "outputId": "f987805c-d9af-464d-f8bb-afa54f6f60ae"
      },
      "outputs": [
        {
          "data": {
            "text/plain": [
              "\"'Ikigai' by Hector Garcia and Francesc Miralles explores the Japanese concept of finding one's purpose in life by analyzing the habits and beliefs of the world's longest-living people. Through case studies, the book offers practical insights on how to live a more fulfilling life.\""
            ]
          },
          "execution_count": 184,
          "metadata": {},
          "output_type": "execute_result"
        }
      ],
      "source": [
        "text"
      ]
    },
    {
      "cell_type": "code",
      "execution_count": null,
      "metadata": {
        "id": "Km7rbkeXXVGO",
        "outputId": "4da68d06-7f84-44c5-9da9-211978b9371c"
      },
      "outputs": [
        {
          "data": {
            "text/plain": [
              "[\"'ikigai'\",\n",
              " 'by',\n",
              " 'hector',\n",
              " 'garcia',\n",
              " 'and',\n",
              " 'francesc',\n",
              " 'miral',\n",
              " 'explor',\n",
              " 'the',\n",
              " 'japanes',\n",
              " 'concept',\n",
              " 'of',\n",
              " 'find',\n",
              " \"one'\",\n",
              " 'purpos',\n",
              " 'in',\n",
              " 'life',\n",
              " 'by',\n",
              " 'analyz',\n",
              " 'the',\n",
              " 'habit',\n",
              " 'and',\n",
              " 'belief',\n",
              " 'of',\n",
              " 'the',\n",
              " \"world'\",\n",
              " 'longest-liv',\n",
              " 'people.',\n",
              " 'through',\n",
              " 'case',\n",
              " 'studies,',\n",
              " 'the',\n",
              " 'book',\n",
              " 'offer',\n",
              " 'practic',\n",
              " 'insight',\n",
              " 'on',\n",
              " 'how',\n",
              " 'to',\n",
              " 'live',\n",
              " 'a',\n",
              " 'more',\n",
              " 'fulfil',\n",
              " 'life.']"
            ]
          },
          "execution_count": 183,
          "metadata": {},
          "output_type": "execute_result"
        }
      ],
      "source": [
        "stemming(text)"
      ]
    },
    {
      "cell_type": "code",
      "execution_count": null,
      "metadata": {
        "id": "1U7RBAnHXVGP",
        "outputId": "6baed160-be33-43e0-c3a9-6d6cb5e68cd6"
      },
      "outputs": [
        {
          "name": "stderr",
          "output_type": "stream",
          "text": [
            "[nltk_data] Downloading package wordnet to /config/nltk_data...\n"
          ]
        },
        {
          "data": {
            "text/plain": [
              "True"
            ]
          },
          "execution_count": 177,
          "metadata": {},
          "output_type": "execute_result"
        }
      ],
      "source": [
        "nltk.download('wordnet')"
      ]
    },
    {
      "cell_type": "code",
      "execution_count": null,
      "metadata": {
        "id": "qi_8PsVNXVGP"
      },
      "outputs": [],
      "source": [
        "from nltk.stem import WordNetLemmatizer\n",
        "\n",
        "def lammatization(text):\n",
        "    words=text.split()\n",
        "\n",
        "    lemmetizer=WordNetLemmatizer()\n",
        "\n",
        "    lemetized_word=[lemmetizer.lemmatize(word) for word in words]\n",
        "\n",
        "    return lemetized_word"
      ]
    },
    {
      "cell_type": "code",
      "execution_count": null,
      "metadata": {
        "id": "Zow_59F3XVGP"
      },
      "outputs": [],
      "source": [
        "text=\"'Ikigai' by Hector Garcia and Francesc Miralles explores the Japanese concept of finding one's purpose in life by analyzing the habits and beliefs of the world's longest-living people. Through case studies, the book offers practical insights on how to live a more fulfilling life.\""
      ]
    },
    {
      "cell_type": "code",
      "execution_count": null,
      "metadata": {
        "id": "XGX7lfEgXVGP",
        "outputId": "94da6c29-aa9f-4f9f-9329-9f6a43269a65"
      },
      "outputs": [
        {
          "data": {
            "text/plain": [
              "[\"'Ikigai'\",\n",
              " 'by',\n",
              " 'Hector',\n",
              " 'Garcia',\n",
              " 'and',\n",
              " 'Francesc',\n",
              " 'Miralles',\n",
              " 'explores',\n",
              " 'the',\n",
              " 'Japanese',\n",
              " 'concept',\n",
              " 'of',\n",
              " 'finding',\n",
              " \"one's\",\n",
              " 'purpose',\n",
              " 'in',\n",
              " 'life',\n",
              " 'by',\n",
              " 'analyzing',\n",
              " 'the',\n",
              " 'habit',\n",
              " 'and',\n",
              " 'belief',\n",
              " 'of',\n",
              " 'the',\n",
              " \"world's\",\n",
              " 'longest-living',\n",
              " 'people.',\n",
              " 'Through',\n",
              " 'case',\n",
              " 'studies,',\n",
              " 'the',\n",
              " 'book',\n",
              " 'offer',\n",
              " 'practical',\n",
              " 'insight',\n",
              " 'on',\n",
              " 'how',\n",
              " 'to',\n",
              " 'live',\n",
              " 'a',\n",
              " 'more',\n",
              " 'fulfilling',\n",
              " 'life.']"
            ]
          },
          "execution_count": 182,
          "metadata": {},
          "output_type": "execute_result"
        }
      ],
      "source": [
        "lammatization(text)"
      ]
    },
    {
      "cell_type": "code",
      "execution_count": null,
      "metadata": {
        "id": "Riu3gu4WXVGS"
      },
      "outputs": [],
      "source": []
    },
    {
      "cell_type": "code",
      "execution_count": null,
      "metadata": {
        "id": "-0lWm1nFXVGS"
      },
      "outputs": [],
      "source": []
    },
    {
      "cell_type": "code",
      "execution_count": null,
      "metadata": {
        "id": "ff1KMxxmXVGS"
      },
      "outputs": [],
      "source": []
    }
  ],
  "metadata": {
    "kernelspec": {
      "display_name": "Python 3.9.13 ('base')",
      "language": "python",
      "name": "python3"
    },
    "language_info": {
      "codemirror_mode": {
        "name": "ipython",
        "version": 3
      },
      "file_extension": ".py",
      "mimetype": "text/x-python",
      "name": "python",
      "nbconvert_exporter": "python",
      "pygments_lexer": "ipython3",
      "version": "3.9.13"
    },
    "orig_nbformat": 4,
    "vscode": {
      "interpreter": {
        "hash": "ba7d6a92d9c7295bfdcfceb88786d0d9300abf0a1802f116b1f16ab64cdf39a0"
      }
    },
    "colab": {
      "provenance": []
    }
  },
  "nbformat": 4,
  "nbformat_minor": 0
}